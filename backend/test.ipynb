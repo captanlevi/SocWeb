{
 "cells": [
  {
   "cell_type": "code",
   "execution_count": 4,
   "metadata": {},
   "outputs": [],
   "source": [
    "from passlib.context import CryptContext\n",
    "\n",
    "pwd_context = CryptContext(schemes=[\"bcrypt\"])\n",
    "\n",
    "def hash_password(password: str) -> str:\n",
    "    return pwd_context.hash(password)\n",
    "\n",
    "def verify_password(plain_password: str, hashed_password: str) -> bool:\n",
    "    return pwd_context.verify(plain_password, hashed_password)"
   ]
  },
  {
   "cell_type": "code",
   "execution_count": 5,
   "metadata": {},
   "outputs": [
    {
     "data": {
      "text/plain": [
       "'$2b$12$fEE42xKjS3RTQh8dWbxafeMP9korQoLskxJRYwLBDFNpTHSjvgG66'"
      ]
     },
     "execution_count": 5,
     "metadata": {},
     "output_type": "execute_result"
    }
   ],
   "source": [
    "hash_password(\"beerbeerbeer\")"
   ]
  },
  {
   "cell_type": "code",
   "execution_count": 6,
   "metadata": {},
   "outputs": [
    {
     "data": {
      "text/plain": [
       "True"
      ]
     },
     "execution_count": 6,
     "metadata": {},
     "output_type": "execute_result"
    }
   ],
   "source": [
    "verify_password(plain_password= \"beerbeerbeer\", hashed_password= \"$2b$12$wPDWOc/gHeKTbnX5VG8VzOamlO1xE2Rz36jdlOVkOE78s7DyleSge\")"
   ]
  },
  {
   "cell_type": "code",
   "execution_count": 7,
   "metadata": {},
   "outputs": [],
   "source": [
    "import secrets"
   ]
  },
  {
   "cell_type": "code",
   "execution_count": 12,
   "metadata": {},
   "outputs": [
    {
     "data": {
      "text/plain": [
       "'1E1zcKy1yy1LUCupOaJgvpdm4uoUVEuCGgyESyBx7ds'"
      ]
     },
     "execution_count": 12,
     "metadata": {},
     "output_type": "execute_result"
    }
   ],
   "source": []
  },
  {
   "cell_type": "code",
   "execution_count": null,
   "metadata": {},
   "outputs": [],
   "source": []
  }
 ],
 "metadata": {
  "kernelspec": {
   "display_name": ".mlenv",
   "language": "python",
   "name": "python3"
  },
  "language_info": {
   "codemirror_mode": {
    "name": "ipython",
    "version": 3
   },
   "file_extension": ".py",
   "mimetype": "text/x-python",
   "name": "python",
   "nbconvert_exporter": "python",
   "pygments_lexer": "ipython3",
   "version": "3.11.10"
  }
 },
 "nbformat": 4,
 "nbformat_minor": 2
}
